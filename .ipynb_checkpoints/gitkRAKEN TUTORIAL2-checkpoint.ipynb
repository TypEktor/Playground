{
 "cells": [
  {
   "cell_type": "markdown",
   "id": "6e0af2b3",
   "metadata": {},
   "source": [
    "SOME COMMENTS"
   ]
  },
  {
   "cell_type": "markdown",
   "id": "ad60c1b0",
   "metadata": {},
   "source": [
    "Some more comments"
   ]
  },
  {
   "cell_type": "code",
   "execution_count": null,
   "id": "9c556811",
   "metadata": {},
   "outputs": [],
   "source": []
  }
 ],
 "metadata": {
  "kernelspec": {
   "display_name": "Python 3 (ipykernel)",
   "language": "python",
   "name": "python3"
  },
  "language_info": {
   "codemirror_mode": {
    "name": "ipython",
    "version": 3
   },
   "file_extension": ".py",
   "mimetype": "text/x-python",
   "name": "python",
   "nbconvert_exporter": "python",
   "pygments_lexer": "ipython3",
   "version": "3.9.15"
  }
 },
 "nbformat": 4,
 "nbformat_minor": 5
}
